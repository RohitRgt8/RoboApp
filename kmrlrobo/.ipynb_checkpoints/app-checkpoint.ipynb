{
 "cells": [
  {
   "cell_type": "code",
   "execution_count": null,
   "id": "03af865a",
   "metadata": {},
   "outputs": [
    {
     "name": "stdout",
     "output_type": "stream",
     "text": [
      " * Serving Flask app \"__main__\" (lazy loading)\n",
      " * Environment: production\n",
      "\u001b[31m   WARNING: This is a development server. Do not use it in a production deployment.\u001b[0m\n",
      "\u001b[2m   Use a production WSGI server instead.\u001b[0m\n",
      " * Debug mode: off\n"
     ]
    },
    {
     "name": "stderr",
     "output_type": "stream",
     "text": [
      " * Running on http://127.0.0.1:5000/ (Press CTRL+C to quit)\n"
     ]
    }
   ],
   "source": [
    "from flask import Flask, request, jsonify\n",
    "\n",
    "app = Flask(__name__)\n",
    "\n",
    "data = {\n",
    "    'button1_value': 'Initial1',\n",
    "    'button2_value': 'Initial2'\n",
    "}\n",
    "\n",
    "@app.route('/button1', methods=['GET'])\n",
    "def get_button1_value():\n",
    "    return data['button1_value']\n",
    "\n",
    "@app.route('/button1', methods=['POST'])\n",
    "def update_button1_value():\n",
    "    value = request.form.get('value', '')\n",
    "    data['button1_value'] = value\n",
    "    return 'OK'\n",
    "\n",
    "@app.route('/button2', methods=['GET'])\n",
    "def get_button2_value():\n",
    "    return data['button2_value']\n",
    "\n",
    "@app.route('/button2', methods=['POST'])\n",
    "def update_button2_value():\n",
    "    value = request.form.get('value', '')\n",
    "    data['button2_value'] = value\n",
    "    return 'OK'\n",
    "\n",
    "@app.route('/data', methods=['GET'])\n",
    "def get_data():\n",
    "    return jsonify(data)\n",
    "\n",
    "if __name__ == '__main__':\n",
    "    app.run()"
   ]
  },
  {
   "cell_type": "code",
   "execution_count": null,
   "id": "0fb9ce41",
   "metadata": {},
   "outputs": [],
   "source": []
  }
 ],
 "metadata": {
  "kernelspec": {
   "display_name": "Python 3 (ipykernel)",
   "language": "python",
   "name": "python3"
  },
  "language_info": {
   "codemirror_mode": {
    "name": "ipython",
    "version": 3
   },
   "file_extension": ".py",
   "mimetype": "text/x-python",
   "name": "python",
   "nbconvert_exporter": "python",
   "pygments_lexer": "ipython3",
   "version": "3.9.12"
  }
 },
 "nbformat": 4,
 "nbformat_minor": 5
}
